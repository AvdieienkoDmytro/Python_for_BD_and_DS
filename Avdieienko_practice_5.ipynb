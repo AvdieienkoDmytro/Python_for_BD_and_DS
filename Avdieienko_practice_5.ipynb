{
  "nbformat": 4,
  "nbformat_minor": 0,
  "metadata": {
    "colab": {
      "provenance": []
    },
    "kernelspec": {
      "name": "python3",
      "display_name": "Python 3"
    },
    "language_info": {
      "name": "python"
    }
  },
  "cells": [
    {
      "cell_type": "markdown",
      "source": [
        "# I. OOP"
      ],
      "metadata": {
        "id": "5qV_sehzFCTp"
      }
    },
    {
      "cell_type": "markdown",
      "source": [
        "1. (6б). Створіть клас Building, додайте три атрибути, один з яких має значення за замовчуванням та два методи на свій розсуд."
      ],
      "metadata": {
        "id": "tx_U_hOALyfg"
      }
    },
    {
      "cell_type": "code",
      "source": [
        "class Building:\n",
        "  def __init__(self, height, count_of_apartments, is_inclusive = False):\n",
        "    self.height = height if height > 0 else 0\n",
        "    self.count_of_apartments = count_of_apartments if count_of_apartments > 0 else 0\n",
        "    self.is_inclusive = is_inclusive\n",
        "\n",
        "  def check_if_inclusive(self):\n",
        "    if self.is_inclusive:\n",
        "      return \"The house is suitable for people with inclusive needs!\"\n",
        "    return \"Building is not inclusive :(\"\n",
        "\n",
        "  def change_count_of_apartmens(self, new_count):\n",
        "    self.count_of_apartments = new_count"
      ],
      "metadata": {
        "id": "-Vf895KaL88N"
      },
      "execution_count": 1,
      "outputs": []
    },
    {
      "cell_type": "markdown",
      "source": [
        "2. (2б). Створіть два обʼєкти цього класу, де один з обʼєктів створюється із дефолтним значенням атрибуту. На одному обʼєкті отримайте значення його атрибуту, а на іншому викличте один з його методів."
      ],
      "metadata": {
        "id": "X_UlOMB0L93w"
      }
    },
    {
      "cell_type": "code",
      "source": [
        "my_building = Building(42, 112)\n",
        "inclusive_building = Building(30, 60, True)\n",
        "\n",
        "print(my_building.height)\n",
        "print(inclusive_building.check_if_inclusive())"
      ],
      "metadata": {
        "id": "7gBu0ESOMCpG",
        "colab": {
          "base_uri": "https://localhost:8080/"
        },
        "outputId": "775ea564-d1c2-42a3-8e24-d11efae11e47"
      },
      "execution_count": 2,
      "outputs": [
        {
          "output_type": "stream",
          "name": "stdout",
          "text": [
            "42\n",
            "The house is suitable for people with inclusive needs!\n"
          ]
        }
      ]
    },
    {
      "cell_type": "markdown",
      "source": [
        "3. (5б). Створіть клас, де атрибути мають різні рівні доступу. Спробуйте отримати їхні значення та опишіть результати."
      ],
      "metadata": {
        "id": "HoqSCZt1MHn5"
      }
    },
    {
      "cell_type": "code",
      "source": [
        "class MyClassWithProtections:\n",
        "  def __init__(self, open_atribute, protected_atribute, closed_atribute):\n",
        "    self.open_atribute = open_atribute\n",
        "    self._protected_atribute = protected_atribute\n",
        "    self.__closed_atribute = closed_atribute\n",
        "\n",
        "\n",
        "object_of_class = MyClassWithProtections(12, \"Text\", 3.42)\n",
        "print(object_of_class.open_atribute)  # no problem\n",
        "print(object_of_class._protected_atribute)  # also no problem, but not reccommended to do so\n",
        "print(object_of_class.__closed_atribute)  # Error"
      ],
      "metadata": {
        "id": "r9b3vJxBMSPV",
        "colab": {
          "base_uri": "https://localhost:8080/",
          "height": 216
        },
        "outputId": "967b90d5-2adb-45c4-e717-71f3f1c28904"
      },
      "execution_count": 3,
      "outputs": [
        {
          "output_type": "stream",
          "name": "stdout",
          "text": [
            "12\n",
            "Text\n"
          ]
        },
        {
          "output_type": "error",
          "ename": "AttributeError",
          "evalue": "'MyClassWithProtections' object has no attribute '__closed_atribute'",
          "traceback": [
            "\u001b[0;31m---------------------------------------------------------------------------\u001b[0m",
            "\u001b[0;31mAttributeError\u001b[0m                            Traceback (most recent call last)",
            "\u001b[0;32m<ipython-input-3-1ff0a3bfdaf6>\u001b[0m in \u001b[0;36m<cell line: 0>\u001b[0;34m()\u001b[0m\n\u001b[1;32m      9\u001b[0m \u001b[0mprint\u001b[0m\u001b[0;34m(\u001b[0m\u001b[0mobject_of_class\u001b[0m\u001b[0;34m.\u001b[0m\u001b[0mopen_atribute\u001b[0m\u001b[0;34m)\u001b[0m  \u001b[0;31m# no problem\u001b[0m\u001b[0;34m\u001b[0m\u001b[0;34m\u001b[0m\u001b[0m\n\u001b[1;32m     10\u001b[0m \u001b[0mprint\u001b[0m\u001b[0;34m(\u001b[0m\u001b[0mobject_of_class\u001b[0m\u001b[0;34m.\u001b[0m\u001b[0m_protected_atribute\u001b[0m\u001b[0;34m)\u001b[0m  \u001b[0;31m# also no problem, but not reccommended to do so\u001b[0m\u001b[0;34m\u001b[0m\u001b[0;34m\u001b[0m\u001b[0m\n\u001b[0;32m---> 11\u001b[0;31m \u001b[0mprint\u001b[0m\u001b[0;34m(\u001b[0m\u001b[0mobject_of_class\u001b[0m\u001b[0;34m.\u001b[0m\u001b[0m__closed_atribute\u001b[0m\u001b[0;34m)\u001b[0m  \u001b[0;31m# Error\u001b[0m\u001b[0;34m\u001b[0m\u001b[0;34m\u001b[0m\u001b[0m\n\u001b[0m",
            "\u001b[0;31mAttributeError\u001b[0m: 'MyClassWithProtections' object has no attribute '__closed_atribute'"
          ]
        }
      ]
    },
    {
      "cell_type": "markdown",
      "source": [
        "4. (7б). Як ви розумієте термін self? Для чого використовується метод __init __?"
      ],
      "metadata": {
        "id": "5op2m2vgMSkZ"
      }
    },
    {
      "cell_type": "markdown",
      "source": [
        "`self` - pointer on own obeject of class.\n",
        "\n",
        "`__init__` - magic method for initialization of class object."
      ],
      "metadata": {
        "id": "DyiPqNRvMasx"
      }
    },
    {
      "cell_type": "markdown",
      "source": [
        "5. (9б). Створіть клас 3D-фігура без атрибутів, з методом get_volume для отримання об'єму фігури, що повертає 0 та __add __, який приймає self та other в якості аргументів, а повертає суму об'ємів 3d-фігур self та other."
      ],
      "metadata": {
        "id": "-6X8EGfjMd2y"
      }
    },
    {
      "cell_type": "code",
      "source": [
        "class Shape3D:\n",
        "  def get_volume(self):\n",
        "    return 0\n",
        "\n",
        "  def __add__(self, other):\n",
        "    return self.get_volume() + other.get_volume()"
      ],
      "metadata": {
        "id": "4rvO_wYUMaEr"
      },
      "execution_count": 4,
      "outputs": []
    },
    {
      "cell_type": "markdown",
      "source": [
        "6. (11б). Створіть 2 дочірніх класи від 3d-фігура: Циліндр та Куб, які мають атрибути, необхідні для розрахунку об'єму. Визначте метод get_volume в кожному з них так, щоби вони розраховували об'єм у залежності від формули для кожного типу фігури. Створіть обʼєкт класу Циліндр та обʼєкт класу Куб. Виконайте операцію суми за допомогою оператора + між ними, аби знайти сумарний об'єм."
      ],
      "metadata": {
        "id": "SFcKnnv5Mo_z"
      }
    },
    {
      "cell_type": "code",
      "source": [
        "from math import pi as PI_VALUE\n",
        "\n",
        "\n",
        "class Cylinder(Shape3D):\n",
        "  def __init__(self, radius, height):\n",
        "    self.radius = radius\n",
        "    self.height = height\n",
        "\n",
        "  def get_volume(self):\n",
        "    return (PI_VALUE * (self.radius ** 2)) * self.height\n",
        "\n",
        "\n",
        "class Cube(Shape3D):\n",
        "  def __init__(self, side):\n",
        "    self.side = side\n",
        "\n",
        "  def get_volume(self):\n",
        "    return self.side ** 3\n",
        "\n",
        "\n",
        "my_cylinder = Cylinder(5, 10)\n",
        "my_cube = Cube(7)\n",
        "\n",
        "print(f\"Volume of a cylinder is {my_cylinder.get_volume()}\")\n",
        "print(f\"Volume of a cube is {my_cube.get_volume()}\")\n",
        "print(f\"Total volume is {my_cylinder + my_cube}\")"
      ],
      "metadata": {
        "id": "H3GVNr69Muf3",
        "colab": {
          "base_uri": "https://localhost:8080/"
        },
        "outputId": "0bb4ccfc-3907-43c9-e5b8-c2ef794cd38b"
      },
      "execution_count": 5,
      "outputs": [
        {
          "output_type": "stream",
          "name": "stdout",
          "text": [
            "Volume of a cylinder is 785.3981633974483\n",
            "Volume of a cube is 343\n",
            "Total volume is 1128.3981633974483\n"
          ]
        }
      ]
    },
    {
      "cell_type": "markdown",
      "source": [
        "7. (3б). Продемонструйте різницю між isinstance та issubclass."
      ],
      "metadata": {
        "id": "HCvR206YMvLK"
      }
    },
    {
      "cell_type": "code",
      "source": [
        "print(bool.mro())  # bool -> int -> object\n",
        "\n",
        "# check if object is an instance of a class or of a subclass\n",
        "print(isinstance(True, bool))\n",
        "print(isinstance(True, int))\n",
        "print()\n",
        "\n",
        "# check if first class is subclass of second\n",
        "print(issubclass(int, bool))\n",
        "print(issubclass(bool, object))\n",
        "print(issubclass(bool, bool))"
      ],
      "metadata": {
        "id": "L_V1bBvDM0GN",
        "colab": {
          "base_uri": "https://localhost:8080/"
        },
        "outputId": "23ea060d-2d0c-4728-9320-95dc4a32d5f1"
      },
      "execution_count": 6,
      "outputs": [
        {
          "output_type": "stream",
          "name": "stdout",
          "text": [
            "[<class 'bool'>, <class 'int'>, <class 'object'>]\n",
            "True\n",
            "True\n",
            "\n",
            "False\n",
            "True\n",
            "True\n"
          ]
        }
      ]
    },
    {
      "cell_type": "markdown",
      "source": [
        "8. (13б). Створіть клас EWallet з приватними атрибутами balance та id. Реалізуйте методи поповнення та зняття коштів, забезпечивши належну інкапсуляцію. Підказка: використовуйте декоратори property та setter."
      ],
      "metadata": {
        "id": "jjsaBZ-iM0Qq"
      }
    },
    {
      "cell_type": "code",
      "source": [
        "class EWallet:\n",
        "  def __init__(self, wallet_id, initial_balance=0):\n",
        "    self.__id = wallet_id\n",
        "    self.__balance = initial_balance\n",
        "\n",
        "  @property\n",
        "  def balance(self):\n",
        "    return self.__balance\n",
        "\n",
        "  @property\n",
        "  def id(self):\n",
        "    return self.__id\n",
        "\n",
        "  @balance.setter\n",
        "  def balance(self, value):\n",
        "    self.__balance = value\n",
        "\n",
        "  def deposit(self, amount):\n",
        "    self.__balance += amount\n",
        "\n",
        "  def withdraw(self, amount):\n",
        "    if amount <= 0:\n",
        "      print(\"The amount to withdraw must be greater than zero\")\n",
        "      return False\n",
        "    elif amount > self.__balance:\n",
        "      print(\"Insufficient funds in the account\")\n",
        "      return False\n",
        "    else:\n",
        "      self.__balance -= amount\n",
        "      return True\n",
        "\n",
        "  def __str__(self):\n",
        "    return f\"EWallet [ID: {self.__id}] - Balance: {self.__balance}\""
      ],
      "metadata": {
        "id": "xCvZ7lh8M7YA"
      },
      "execution_count": 7,
      "outputs": []
    },
    {
      "cell_type": "markdown",
      "source": [
        "9. (11б). Створіть клас ShoppingCart, який містить список об'єктів типу Item. Реалізуйте методи для додавання айтемів, їх видалення та відображення списку айтемів."
      ],
      "metadata": {
        "id": "tIzL2SJTM8ft"
      }
    },
    {
      "cell_type": "code",
      "source": [
        "class ShoppingCart:\n",
        "  def __init__(self):\n",
        "    self.items = []\n",
        "\n",
        "  def add_item(self, item):\n",
        "    self.items.append(item)\n",
        "\n",
        "  def delete_item(self, item):\n",
        "    self.items.remove(item)\n",
        "\n",
        "  def show_cart(self):\n",
        "    if not self.items:\n",
        "      print(\"No items in Shopping Cart\")\n",
        "    else:\n",
        "      print(\"Items in Shopping Cart:\")\n",
        "      for i, item in enumerate(self.items, 1):\n",
        "        print(f\"{i}. {item}\")"
      ],
      "metadata": {
        "id": "HWxfJKLtNAUZ"
      },
      "execution_count": 8,
      "outputs": []
    },
    {
      "cell_type": "markdown",
      "source": [
        "10. (13б). Створіть клас Vehicle з атрибутами brand (manufacturer) та production_age. Створіть ще один клас Engine з такими атрибутами, як type (ex. petrol) та size (volume, litres). Створіть клас Car, який успадковує обидва класи Vehicle та Engine. Продемонструйте використання множинної спадковості, створивши обʼєкт класу Car та отримавши mro для цього класу."
      ],
      "metadata": {
        "id": "lmV8pAwwNIqu"
      }
    },
    {
      "cell_type": "code",
      "source": [
        "class Vehicle:\n",
        "  def __init__(self, brand, production_age):\n",
        "    self.brand = brand\n",
        "    self.production_age = production_age\n",
        "\n",
        "  def vehicle_info(self):\n",
        "    return f\"Vehicle: {self.brand}, produced {self.production_age}\"\n",
        "\n",
        "\n",
        "class Engine:\n",
        "  def __init__(self, type, size):\n",
        "    self.type = type\n",
        "    self.size = size\n",
        "\n",
        "  def engine_info(self):\n",
        "    return f\"Engine: {self.type}, {self.size}L\"\n",
        "\n",
        "\n",
        "class Car(Vehicle, Engine):\n",
        "  def __init__(self, brand, production_age, type, size, model):\n",
        "    Vehicle.__init__(self, brand, production_age)\n",
        "    Engine.__init__(self, type, size)\n",
        "    self.model = model\n",
        "\n",
        "  def car_info(self):\n",
        "    return f\"{self.vehicle_info()}, {self.engine_info()}, Model: {self.model}\"\n",
        "\n",
        "\n",
        "my_car = Car(\"Toyota\", 2020, \"petrol\", 2.0, \"Camry\")\n",
        "\n",
        "print(my_car.car_info())\n",
        "print(my_car.engine_info())\n",
        "print(my_car.vehicle_info())\n",
        "\n",
        "print(Car.__mro__)"
      ],
      "metadata": {
        "id": "R49grKlWNPeN",
        "colab": {
          "base_uri": "https://localhost:8080/"
        },
        "outputId": "e494274c-be13-4d2d-8cf7-dba5f1be1bc5"
      },
      "execution_count": 9,
      "outputs": [
        {
          "output_type": "stream",
          "name": "stdout",
          "text": [
            "Vehicle: Toyota, produced 2020, Engine: petrol, 2.0L, Model: Camry\n",
            "Engine: petrol, 2.0L\n",
            "Vehicle: Toyota, produced 2020\n",
            "(<class '__main__.Car'>, <class '__main__.Vehicle'>, <class '__main__.Engine'>, <class 'object'>)\n"
          ]
        }
      ]
    },
    {
      "cell_type": "markdown",
      "source": [
        "# II. Iterator"
      ],
      "metadata": {
        "id": "dIJyUiNBFG8G"
      }
    },
    {
      "cell_type": "markdown",
      "source": [
        "11. (4б). Визначте рядок(str) з 4ма різними за значенням символами. Створіть ітератор на основі цього рядка. Викличте 5 разів функцію next на ітераторі, 4ри перших з них огорніть у ф-цію print()."
      ],
      "metadata": {
        "id": "13vsm0NyKIzL"
      }
    },
    {
      "cell_type": "code",
      "source": [
        "my_string = \"03Po\"\n",
        "\n",
        "strint_iter = iter(my_string)\n",
        "\n",
        "for _ in range(4):\n",
        "  print(next(strint_iter))\n",
        "\n",
        "next(strint_iter)"
      ],
      "metadata": {
        "id": "81ntabAkKuz-",
        "colab": {
          "base_uri": "https://localhost:8080/",
          "height": 251
        },
        "outputId": "498ab469-17a0-4d5e-c8c1-119515f3db1a"
      },
      "execution_count": 10,
      "outputs": [
        {
          "output_type": "stream",
          "name": "stdout",
          "text": [
            "0\n",
            "3\n",
            "P\n",
            "o\n"
          ]
        },
        {
          "output_type": "error",
          "ename": "StopIteration",
          "evalue": "",
          "traceback": [
            "\u001b[0;31m---------------------------------------------------------------------------\u001b[0m",
            "\u001b[0;31mStopIteration\u001b[0m                             Traceback (most recent call last)",
            "\u001b[0;32m<ipython-input-10-e6fc8c607b40>\u001b[0m in \u001b[0;36m<cell line: 0>\u001b[0;34m()\u001b[0m\n\u001b[1;32m      6\u001b[0m   \u001b[0mprint\u001b[0m\u001b[0;34m(\u001b[0m\u001b[0mnext\u001b[0m\u001b[0;34m(\u001b[0m\u001b[0mstrint_iter\u001b[0m\u001b[0;34m)\u001b[0m\u001b[0;34m)\u001b[0m\u001b[0;34m\u001b[0m\u001b[0;34m\u001b[0m\u001b[0m\n\u001b[1;32m      7\u001b[0m \u001b[0;34m\u001b[0m\u001b[0m\n\u001b[0;32m----> 8\u001b[0;31m \u001b[0mnext\u001b[0m\u001b[0;34m(\u001b[0m\u001b[0mstrint_iter\u001b[0m\u001b[0;34m)\u001b[0m\u001b[0;34m\u001b[0m\u001b[0;34m\u001b[0m\u001b[0m\n\u001b[0m",
            "\u001b[0;31mStopIteration\u001b[0m: "
          ]
        }
      ]
    },
    {
      "cell_type": "markdown",
      "source": [
        "А що якщо викликати цю ж функцію на рядку?"
      ],
      "metadata": {
        "id": "aekWHGXOLRsO"
      }
    },
    {
      "cell_type": "code",
      "source": [
        "next(my_string)"
      ],
      "metadata": {
        "id": "mxATGsErLV1i",
        "colab": {
          "base_uri": "https://localhost:8080/",
          "height": 144
        },
        "outputId": "06d8b8f0-3dc2-4035-ee33-682feb23f9bf"
      },
      "execution_count": 11,
      "outputs": [
        {
          "output_type": "error",
          "ename": "TypeError",
          "evalue": "'str' object is not an iterator",
          "traceback": [
            "\u001b[0;31m---------------------------------------------------------------------------\u001b[0m",
            "\u001b[0;31mTypeError\u001b[0m                                 Traceback (most recent call last)",
            "\u001b[0;32m<ipython-input-11-536fe210e95a>\u001b[0m in \u001b[0;36m<cell line: 0>\u001b[0;34m()\u001b[0m\n\u001b[0;32m----> 1\u001b[0;31m \u001b[0mnext\u001b[0m\u001b[0;34m(\u001b[0m\u001b[0mmy_string\u001b[0m\u001b[0;34m)\u001b[0m\u001b[0;34m\u001b[0m\u001b[0;34m\u001b[0m\u001b[0m\n\u001b[0m",
            "\u001b[0;31mTypeError\u001b[0m: 'str' object is not an iterator"
          ]
        }
      ]
    },
    {
      "cell_type": "markdown",
      "source": [
        " 12. (5б). Опишіть своїми словами в одному реченні, як ви розумієте різницю між ітерабельними обʼєктами та ітераторами (можна на прикладі)."
      ],
      "metadata": {
        "id": "XwtMEopwJ4pH"
      }
    },
    {
      "cell_type": "markdown",
      "source": [
        "Iterable object have elements that can be iterated. Iterable is object that remeber position and can give next element."
      ],
      "metadata": {
        "id": "-sHrODc3KFn8"
      }
    },
    {
      "cell_type": "markdown",
      "source": [
        "13. (11б). Створіть клас, що має визначений Iterator Protocol та при кожному виклику next повертає назву дня тижня, поки вони не вичерпаються. Зверніть увагу, що порядок має значення."
      ],
      "metadata": {
        "id": "E9qJWmNbK8Gl"
      }
    },
    {
      "cell_type": "code",
      "source": [
        "class WeekDaysIterator:\n",
        "  def __init__(self):\n",
        "    self.days = [\"Monday\", \"Tuesday\", \"Wednesday\",\n",
        "                 \"Thursday\", \"Friday\", \"Saturday\", \"Sunday\"]\n",
        "    self.index = 0\n",
        "\n",
        "  def __iter__(self):\n",
        "    return self\n",
        "\n",
        "  def __next__(self):\n",
        "    if self.index < len(self.days):\n",
        "      day = self.days[self.index]\n",
        "      self.index += 1\n",
        "      return day\n",
        "    else:\n",
        "      raise StopIteration"
      ],
      "metadata": {
        "id": "cqx-g_RsLo6I"
      },
      "execution_count": 12,
      "outputs": []
    },
    {
      "cell_type": "markdown",
      "source": [
        "# Вітаю! Ви велика(ий) молодець, що впоралась(вся). Похваліть себе та побалуйте чимось приємним. Я Вами пишаюся."
      ],
      "metadata": {
        "id": "Z3E3S_s1Fv7-"
      }
    }
  ]
}